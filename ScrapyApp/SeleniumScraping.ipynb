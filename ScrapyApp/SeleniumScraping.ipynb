{
 "cells": [
  {
   "cell_type": "code",
   "execution_count": 1,
   "metadata": {},
   "outputs": [],
   "source": [
    "def scroll(driver, timeout):\n",
    "    scroll_pause_time = timeout\n",
    "\n",
    "    last_height = driver.execute_script(\"return document.body.scrollHeight\")\n",
    "\n",
    "    while True:\n",
    "        driver.execute_script(\"window.scrollTo(0, document.body.scrollHeight);\")\n",
    "\n",
    "        time.sleep(scroll_pause_time)\n",
    "\n",
    "        new_height = driver.execute_script(\"return document.body.scrollHeight\")\n",
    "        if new_height == last_height:\n",
    "            break\n",
    "        last_height = new_height"
   ]
  },
  {
   "cell_type": "code",
   "execution_count": 2,
   "metadata": {},
   "outputs": [
    {
     "name": "stderr",
     "output_type": "stream",
     "text": [
      "[WDM] - Current google-chrome version is 84.0.4147\n",
      "[WDM] - Get LATEST driver version for 84.0.4147\n",
      "[WDM] - Get LATEST driver version for 84.0.4147\n"
     ]
    },
    {
     "name": "stdout",
     "output_type": "stream",
     "text": [
      " \n"
     ]
    },
    {
     "name": "stderr",
     "output_type": "stream",
     "text": [
      "[WDM] - Trying to download new driver from http://chromedriver.storage.googleapis.com/84.0.4147.30/chromedriver_mac64.zip\n",
      "[WDM] - Driver has been saved in cache [/Users/sharanyaagarwal/.wdm/drivers/chromedriver/mac64/84.0.4147.30]\n"
     ]
    }
   ],
   "source": [
    "from selenium import webdriver\n",
    "from selenium.webdriver.common.keys import Keys\n",
    "import time\n",
    "from webdriver_manager.chrome import ChromeDriverManager\n",
    "from bs4 import BeautifulSoup\n",
    "import pandas as pd\n",
    "import csv\n",
    "\n",
    "chromeBrowser = webdriver.Chrome(ChromeDriverManager().install())\n",
    "\n",
    "chromeBrowser.implicitly_wait(30)\n",
    "\n",
    "data = {'Job Title': [],\n",
    "        'Company Name': [],\n",
    "        'Location': [],\n",
    "        'Posted Time Ago': [],\n",
    "        'Description': [],\n",
    "        'Seniority Level': [],\n",
    "        'Employment Type': [],\n",
    "        'Job Function': [],\n",
    "        'Industries': []}\n",
    "\n",
    "\n",
    "joblistings = pd.DataFrame(data, columns= ['Job Title', 'Company Name', 'Location', 'Posted Time Ago', 'Description', 'Seniority Level', 'Employment Type', 'Job Function', 'Industries'])\n",
    "\n",
    "chromeBrowser.get('https://www.linkedin.com/jobs/search?keywords=Information%2BTechnology&location=United%2BStates&geoId=103644278&trk=public_jobs_jobs-search-bar_search-submit&f_E=5%2C6&redirect=false&position=1&pageNum=0')\n",
    "\n",
    "scroll(chromeBrowser, 5)\n",
    "\n",
    "heightofpage = chromeBrowser.execute_script(\"return document.body.scrollHeight\")\n",
    "\n",
    "while True:\n",
    "    button = chromeBrowser.find_element_by_xpath('//button[text()=\"See more jobs\"]')\n",
    "    if button:\n",
    "        button.click()\n",
    "        scroll(chromeBrowser, 5)\n",
    "        if(heightofpage == chromeBrowser.execute_script(\"return document.body.scrollHeight\")):\n",
    "            break;\n",
    "        else:\n",
    "            heightofpage = chromeBrowser.execute_script(\"return document.body.scrollHeight\")\n",
    "    else:\n",
    "        break\n",
    "    \n",
    "soup_a = BeautifulSoup(chromeBrowser.page_source, 'lxml')\n",
    "\n",
    "links = []\n",
    "\n",
    "for link in soup_a.find_all(\"a\", {\"class\": \"result-card__full-card-link\"}):\n",
    "    links.append(link.get('href'))\n"
   ]
  },
  {
   "cell_type": "code",
   "execution_count": 3,
   "metadata": {},
   "outputs": [
    {
     "ename": "NoSuchWindowException",
     "evalue": "Message: no such window: window was already closed\n  (Session info: chrome=84.0.4147.105)\n",
     "output_type": "error",
     "traceback": [
      "\u001b[0;31m---------------------------------------------------------------------------\u001b[0m",
      "\u001b[0;31mNoSuchWindowException\u001b[0m                     Traceback (most recent call last)",
      "\u001b[0;32m<ipython-input-3-891c0ce28d70>\u001b[0m in \u001b[0;36m<module>\u001b[0;34m\u001b[0m\n\u001b[1;32m      1\u001b[0m \u001b[0;32mfor\u001b[0m \u001b[0murl\u001b[0m \u001b[0;32min\u001b[0m \u001b[0mlinks\u001b[0m\u001b[0;34m[\u001b[0m\u001b[0;34m:\u001b[0m\u001b[0;36m1\u001b[0m\u001b[0;34m]\u001b[0m\u001b[0;34m:\u001b[0m\u001b[0;34m\u001b[0m\u001b[0;34m\u001b[0m\u001b[0m\n\u001b[0;32m----> 2\u001b[0;31m     \u001b[0mchromeBrowser\u001b[0m\u001b[0;34m.\u001b[0m\u001b[0mget\u001b[0m\u001b[0;34m(\u001b[0m\u001b[0murl\u001b[0m\u001b[0;34m)\u001b[0m\u001b[0;34m\u001b[0m\u001b[0;34m\u001b[0m\u001b[0m\n\u001b[0m\u001b[1;32m      3\u001b[0m \u001b[0;34m\u001b[0m\u001b[0m\n\u001b[1;32m      4\u001b[0m     \u001b[0mjob_title\u001b[0m \u001b[0;34m=\u001b[0m \u001b[0mchromeBrowser\u001b[0m\u001b[0;34m.\u001b[0m\u001b[0mfind_element_by_class_name\u001b[0m\u001b[0;34m(\u001b[0m\u001b[0;34m\"topcard__title\"\u001b[0m\u001b[0;34m)\u001b[0m\u001b[0;34m.\u001b[0m\u001b[0mtext\u001b[0m\u001b[0;34m\u001b[0m\u001b[0;34m\u001b[0m\u001b[0m\n\u001b[1;32m      5\u001b[0m \u001b[0;34m\u001b[0m\u001b[0m\n",
      "\u001b[0;32m~/opt/anaconda3/lib/python3.7/site-packages/selenium/webdriver/remote/webdriver.py\u001b[0m in \u001b[0;36mget\u001b[0;34m(self, url)\u001b[0m\n\u001b[1;32m    331\u001b[0m         \u001b[0mLoads\u001b[0m \u001b[0ma\u001b[0m \u001b[0mweb\u001b[0m \u001b[0mpage\u001b[0m \u001b[0;32min\u001b[0m \u001b[0mthe\u001b[0m \u001b[0mcurrent\u001b[0m \u001b[0mbrowser\u001b[0m \u001b[0msession\u001b[0m\u001b[0;34m.\u001b[0m\u001b[0;34m\u001b[0m\u001b[0;34m\u001b[0m\u001b[0m\n\u001b[1;32m    332\u001b[0m         \"\"\"\n\u001b[0;32m--> 333\u001b[0;31m         \u001b[0mself\u001b[0m\u001b[0;34m.\u001b[0m\u001b[0mexecute\u001b[0m\u001b[0;34m(\u001b[0m\u001b[0mCommand\u001b[0m\u001b[0;34m.\u001b[0m\u001b[0mGET\u001b[0m\u001b[0;34m,\u001b[0m \u001b[0;34m{\u001b[0m\u001b[0;34m'url'\u001b[0m\u001b[0;34m:\u001b[0m \u001b[0murl\u001b[0m\u001b[0;34m}\u001b[0m\u001b[0;34m)\u001b[0m\u001b[0;34m\u001b[0m\u001b[0;34m\u001b[0m\u001b[0m\n\u001b[0m\u001b[1;32m    334\u001b[0m \u001b[0;34m\u001b[0m\u001b[0m\n\u001b[1;32m    335\u001b[0m     \u001b[0;34m@\u001b[0m\u001b[0mproperty\u001b[0m\u001b[0;34m\u001b[0m\u001b[0;34m\u001b[0m\u001b[0m\n",
      "\u001b[0;32m~/opt/anaconda3/lib/python3.7/site-packages/selenium/webdriver/remote/webdriver.py\u001b[0m in \u001b[0;36mexecute\u001b[0;34m(self, driver_command, params)\u001b[0m\n\u001b[1;32m    319\u001b[0m         \u001b[0mresponse\u001b[0m \u001b[0;34m=\u001b[0m \u001b[0mself\u001b[0m\u001b[0;34m.\u001b[0m\u001b[0mcommand_executor\u001b[0m\u001b[0;34m.\u001b[0m\u001b[0mexecute\u001b[0m\u001b[0;34m(\u001b[0m\u001b[0mdriver_command\u001b[0m\u001b[0;34m,\u001b[0m \u001b[0mparams\u001b[0m\u001b[0;34m)\u001b[0m\u001b[0;34m\u001b[0m\u001b[0;34m\u001b[0m\u001b[0m\n\u001b[1;32m    320\u001b[0m         \u001b[0;32mif\u001b[0m \u001b[0mresponse\u001b[0m\u001b[0;34m:\u001b[0m\u001b[0;34m\u001b[0m\u001b[0;34m\u001b[0m\u001b[0m\n\u001b[0;32m--> 321\u001b[0;31m             \u001b[0mself\u001b[0m\u001b[0;34m.\u001b[0m\u001b[0merror_handler\u001b[0m\u001b[0;34m.\u001b[0m\u001b[0mcheck_response\u001b[0m\u001b[0;34m(\u001b[0m\u001b[0mresponse\u001b[0m\u001b[0;34m)\u001b[0m\u001b[0;34m\u001b[0m\u001b[0;34m\u001b[0m\u001b[0m\n\u001b[0m\u001b[1;32m    322\u001b[0m             response['value'] = self._unwrap_value(\n\u001b[1;32m    323\u001b[0m                 response.get('value', None))\n",
      "\u001b[0;32m~/opt/anaconda3/lib/python3.7/site-packages/selenium/webdriver/remote/errorhandler.py\u001b[0m in \u001b[0;36mcheck_response\u001b[0;34m(self, response)\u001b[0m\n\u001b[1;32m    240\u001b[0m                 \u001b[0malert_text\u001b[0m \u001b[0;34m=\u001b[0m \u001b[0mvalue\u001b[0m\u001b[0;34m[\u001b[0m\u001b[0;34m'alert'\u001b[0m\u001b[0;34m]\u001b[0m\u001b[0;34m.\u001b[0m\u001b[0mget\u001b[0m\u001b[0;34m(\u001b[0m\u001b[0;34m'text'\u001b[0m\u001b[0;34m)\u001b[0m\u001b[0;34m\u001b[0m\u001b[0;34m\u001b[0m\u001b[0m\n\u001b[1;32m    241\u001b[0m             \u001b[0;32mraise\u001b[0m \u001b[0mexception_class\u001b[0m\u001b[0;34m(\u001b[0m\u001b[0mmessage\u001b[0m\u001b[0;34m,\u001b[0m \u001b[0mscreen\u001b[0m\u001b[0;34m,\u001b[0m \u001b[0mstacktrace\u001b[0m\u001b[0;34m,\u001b[0m \u001b[0malert_text\u001b[0m\u001b[0;34m)\u001b[0m\u001b[0;34m\u001b[0m\u001b[0;34m\u001b[0m\u001b[0m\n\u001b[0;32m--> 242\u001b[0;31m         \u001b[0;32mraise\u001b[0m \u001b[0mexception_class\u001b[0m\u001b[0;34m(\u001b[0m\u001b[0mmessage\u001b[0m\u001b[0;34m,\u001b[0m \u001b[0mscreen\u001b[0m\u001b[0;34m,\u001b[0m \u001b[0mstacktrace\u001b[0m\u001b[0;34m)\u001b[0m\u001b[0;34m\u001b[0m\u001b[0;34m\u001b[0m\u001b[0m\n\u001b[0m\u001b[1;32m    243\u001b[0m \u001b[0;34m\u001b[0m\u001b[0m\n\u001b[1;32m    244\u001b[0m     \u001b[0;32mdef\u001b[0m \u001b[0m_value_or_default\u001b[0m\u001b[0;34m(\u001b[0m\u001b[0mself\u001b[0m\u001b[0;34m,\u001b[0m \u001b[0mobj\u001b[0m\u001b[0;34m,\u001b[0m \u001b[0mkey\u001b[0m\u001b[0;34m,\u001b[0m \u001b[0mdefault\u001b[0m\u001b[0;34m)\u001b[0m\u001b[0;34m:\u001b[0m\u001b[0;34m\u001b[0m\u001b[0;34m\u001b[0m\u001b[0m\n",
      "\u001b[0;31mNoSuchWindowException\u001b[0m: Message: no such window: window was already closed\n  (Session info: chrome=84.0.4147.105)\n"
     ]
    }
   ],
   "source": [
    "for url in links[:1]:\n",
    "    chromeBrowser.get(url)\n",
    "\n",
    "    job_title = chromeBrowser.find_element_by_class_name(\"topcard__title\").text\n",
    "\n",
    "    company_name = chromeBrowser.find_element_by_xpath(\"//span[contains(@class, 'topcard__flavor')]\").text\n",
    "\n",
    "    location = chromeBrowser.find_element_by_xpath(\"/html/body/main/section[1]/section[2]/div[1]/div[1]/h3[1]/span[2]\").text\n",
    "\n",
    "    posted_time_ago = chromeBrowser.find_element_by_xpath(\"//span[contains(@class, 'topcard__flavor--metadata posted-time-ago__text')]\").text\n",
    "\n",
    "    description = chromeBrowser.find_element_by_xpath(\"/html/body/main/section[1]/section[3]/div/section/div\").text\n",
    "\n",
    "    seniority_level = chromeBrowser.find_element_by_xpath(\"/html/body/main/section[1]/section[3]/ul/li[1]/span\").text\n",
    "\n",
    "    employment_type = chromeBrowser.find_element_by_xpath(\"/html/body/main/section[1]/section[3]/ul/li[2]/span\").text\n",
    "\n",
    "    job_function = chromeBrowser.find_element_by_xpath(\"/html/body/main/section[1]/section[3]/ul/li[3]/span\").text\n",
    "\n",
    "    criteria = chromeBrowser.find_elements_by_class_name('job-criteria__item')\n",
    "    if(len(criteria) < 4):\n",
    "        industries = \"\"\n",
    "    else:\n",
    "        industries = criteria[3].text.split(\"\\n\")[1]\n",
    "\n",
    "    new_row = {'Job Title': job_title, 'Company Name': company_name, 'Location': location, \n",
    "               'Posted Time Ago': posted_time_ago, 'Description': description, \n",
    "               'Seniority Level': seniority_level, 'Employment Type': employment_type, \n",
    "               'Job Function': job_function, 'Industries': industries}\n",
    "\n",
    "    joblistings = joblistings.append(new_row, ignore_index=True)\n",
    "    \n",
    "print(joblistings)"
   ]
  },
  {
   "cell_type": "code",
   "execution_count": null,
   "metadata": {},
   "outputs": [],
   "source": [
    "for url in links[(len(links)/10):(len(links)*2/10)]:\n",
    "    chromeBrowser.get(url)\n",
    "\n",
    "    job_title = chromeBrowser.find_element_by_class_name(\"topcard__title\").text\n",
    "\n",
    "    company_name = chromeBrowser.find_element_by_xpath(\"//span[contains(@class, 'topcard__flavor')]\").text\n",
    "\n",
    "    location = chromeBrowser.find_element_by_xpath(\"/html/body/main/section[1]/section[2]/div[1]/div[1]/h3[1]/span[2]\").text\n",
    "\n",
    "    posted_time_ago = chromeBrowser.find_element_by_xpath(\"//span[contains(@class, 'topcard__flavor--metadata posted-time-ago__text')]\").text\n",
    "\n",
    "    description = chromeBrowser.find_element_by_xpath(\"/html/body/main/section[1]/section[3]/div/section/div\").text\n",
    "\n",
    "    seniority_level = chromeBrowser.find_element_by_xpath(\"/html/body/main/section[1]/section[3]/ul/li[1]/span\").text\n",
    "\n",
    "    employment_type = chromeBrowser.find_element_by_xpath(\"/html/body/main/section[1]/section[3]/ul/li[2]/span\").text\n",
    "\n",
    "    job_function = chromeBrowser.find_element_by_xpath(\"/html/body/main/section[1]/section[3]/ul/li[3]/span\").text\n",
    "\n",
    "    criteria = chromeBrowser.find_elements_by_class_name('job-criteria__item')\n",
    "    if(len(criteria) < 4):\n",
    "        industries = \"\"\n",
    "    else:\n",
    "        industries = criteria[3].text.split(\"\\n\")[1]\n",
    "\n",
    "    new_row = {'Job Title': job_title, 'Company Name': company_name, 'Location': location, \n",
    "               'Posted Time Ago': posted_time_ago, 'Description': description, \n",
    "               'Seniority Level': seniority_level, 'Employment Type': employment_type, \n",
    "               'Job Function': job_function, 'Industries': industries}\n",
    "\n",
    "    joblistings = joblistings.append(new_row, ignore_index=True)\n",
    "\n",
    "print(joblistings)\n",
    "\n",
    "chromeBrowser.close()"
   ]
  }
 ],
 "metadata": {
  "kernelspec": {
   "display_name": "Python 3",
   "language": "python",
   "name": "python3"
  },
  "language_info": {
   "codemirror_mode": {
    "name": "ipython",
    "version": 3
   },
   "file_extension": ".py",
   "mimetype": "text/x-python",
   "name": "python",
   "nbconvert_exporter": "python",
   "pygments_lexer": "ipython3",
   "version": "3.7.6"
  }
 },
 "nbformat": 4,
 "nbformat_minor": 4
}
